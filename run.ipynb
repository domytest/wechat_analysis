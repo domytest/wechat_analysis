{
 "cells": [
  {
   "cell_type": "code",
   "execution_count": null,
   "outputs": [],
   "source": [
    "import re\n",
    "import sqlite3\n",
    "from collections import Counter\n",
    "import string\n",
    "from pyecharts.charts import Bar, Page, WordCloud\n",
    "from pyecharts import options as opts\n",
    "import pandas as pd\n",
    "from pandas import DataFrame\n",
    "import jieba"
   ],
   "metadata": {
    "collapsed": false,
    "pycharm": {
     "name": "#%%\n"
    }
   }
  },
  {
   "cell_type": "code",
   "execution_count": null,
   "outputs": [],
   "source": [
    "# 微信数据库路径\n",
    "path = ''\n",
    "# 需要分析的人的微信号\n",
    "talker = ''"
   ],
   "metadata": {
    "collapsed": false,
    "pycharm": {
     "name": "#%%\n"
    }
   }
  },
  {
   "cell_type": "code",
   "execution_count": null,
   "outputs": [],
   "source": [
    "# 加载数据\n",
    "con = sqlite3.connect(path)\n",
    "# 提取数据，将需要的字段查询出来，过滤掉没有意义的字段和数据类型，按照时间排序\n",
    "sql = f\"SELECT type,status,isSend,createTime,talker,content FROM message where talker='{talker}'\" \\\n",
    "      f\" and type not in (3,43,47,49,889192497,10000,1048625,754974769) ORDER BY createTime\"\n",
    "# 读取数据到DataFrame\n",
    "data = pd.read_sql_query(sql=sql, con=con)\n",
    "# 过滤数据，将引用的内容还原回正常文本\n",
    "data['content'] = data['content'].apply(\n",
    "    lambda x: re.search('<title>(.*?)</title>', x).group(1) if re.search('<title>(.*?)</title>', x) else x)\n",
    "# 处理时间，将时间戳转换为年月日时分秒的格式，记得转换时区\n",
    "data['datetime'] = data['createTime'].apply(\n",
    "    lambda x: pd.Timestamp(x, unit='ms', tz='Asia/Shanghai').strftime('%Y-%m-%d %H:%M:%S'))\n",
    "# 重新格式化时间，用来作为分组依据\n",
    "data['time'] = data['createTime'].apply(lambda x: pd.Timestamp(x, unit='ms', tz='Asia/Shanghai').strftime('%Y-%m-%d'))"
   ],
   "metadata": {
    "collapsed": false,
    "pycharm": {
     "name": "#%%\n"
    }
   }
  },
  {
   "cell_type": "code",
   "execution_count": null,
   "outputs": [],
   "source": [
    "# 按照每天的所有聊天记录统计\n",
    "# 按照时间（精确到日期）进行分组统计，统计出每天聊天记录的数量\n",
    "content_num: DataFrame = data.groupby('time')['content'].count().reset_index()\n",
    "\n",
    "bar = Bar(init_opts=opts.InitOpts(width='1500px', height='650px'))\n",
    "bar.add_xaxis(content_num['time'].tolist())\n",
    "bar.add_yaxis(content_num.columns[1], content_num['content'].tolist())"
   ],
   "metadata": {
    "collapsed": false,
    "pycharm": {
     "name": "#%%\n"
    }
   }
  },
  {
   "cell_type": "code",
   "execution_count": null,
   "outputs": [],
   "source": [
    "# 按照每天每个人聊天记录统计\n",
    "# 根据isSend筛选出发送和回复，按照日期分开统计\n",
    "content_num_my: DataFrame = data[data['isSend'] == 1].groupby('time')['content'].count().reset_index()\n",
    "content_num_my.rename(columns={'content': 'my'}, inplace=True)\n",
    "\n",
    "content_num_you: DataFrame = data[data['isSend'] == 0].groupby('time')['content'].count().reset_index()\n",
    "content_num_you.rename(columns={'content': 'you'}, inplace=True)\n",
    "# 合并两个表格。横向合并数据，使用内连接方式\n",
    "merge = pd.merge(left=content_num_my, right=content_num_you, left_on='time', right_on='time', how='inner')\n",
    "\n",
    "bar1 = Bar(init_opts=opts.InitOpts(width='1500px', height='650px'))\n",
    "bar1.add_xaxis(merge['time'].tolist())\n",
    "bar1.add_yaxis(merge.columns[1], merge['you'].tolist())\n",
    "bar1.add_yaxis(merge.columns[2], merge['my'].tolist())"
   ],
   "metadata": {
    "collapsed": false,
    "pycharm": {
     "name": "#%%\n"
    }
   }
  },
  {
   "cell_type": "code",
   "execution_count": null,
   "outputs": [],
   "source": [
    "# 按照每天聊天时间点统计\n",
    "data['hour'] = data['createTime'].apply(lambda x: pd.Timestamp(x, unit='ms', tz='Asia/Shanghai').strftime('%H'))\n",
    "hour: DataFrame = data.groupby('hour')['content'].count().reset_index()\n",
    "\n",
    "bar2 = Bar(init_opts=opts.InitOpts(width='1500px', height='650px'))\n",
    "bar2.add_xaxis(hour['hour'].tolist())\n",
    "bar2.add_yaxis(hour.columns[1], hour['content'].tolist())"
   ],
   "metadata": {
    "collapsed": false,
    "pycharm": {
     "name": "#%%\n"
    }
   }
  },
  {
   "cell_type": "code",
   "execution_count": null,
   "outputs": [],
   "source": [
    "# 词云图\n",
    "result = []\n",
    "# 排除列表，包括中英文标点符号和一些停止词\n",
    "extend = list('，。、【 】 “”：；（）《》‘’{}？！⑦()、%^>℃：.”“^-——=&#@￥') + list(string.punctuation)\n",
    "with open('cn_stopwords.txt', 'r', encoding='utf8') as f:\n",
    "    for cc in f:\n",
    "        extend.append(cc.replace('\\n', ''))\n",
    "# 可选是否要过滤掉表情\n",
    "extend = list(set(extend))  # +['旺柴','捂脸','皱眉','吃瓜']\n",
    "for a in data['content'].tolist():\n",
    "    for b in jieba.cut(a, cut_all=False, HMM=True):\n",
    "        if b not in extend:\n",
    "            result.append(b)\n",
    "\n",
    "bar3 = WordCloud()\n",
    "bar3.add(series_name=\"词云\", data_pair=Counter(result).items(), word_size_range=[10, 80])\n",
    "bar3.set_global_opts(\n",
    "    title_opts=opts.TitleOpts(\n",
    "        title=\"词云\", title_textstyle_opts=opts.TextStyleOpts(font_size=23)\n",
    "    ),\n",
    "    tooltip_opts=opts.TooltipOpts(is_show=True),\n",
    ")"
   ],
   "metadata": {
    "collapsed": false,
    "pycharm": {
     "name": "#%%\n"
    }
   }
  },
  {
   "cell_type": "code",
   "execution_count": null,
   "outputs": [],
   "source": [
    "# 按照所有的字数统计\n",
    "data['num'] = data['content'].apply(lambda x: len(x))\n",
    "num: DataFrame = data.groupby('time')['num'].sum().reset_index()\n",
    "\n",
    "bar4 = Bar(init_opts=opts.InitOpts(width='1500px', height='650px'))\n",
    "bar4.add_xaxis(num['time'].tolist())\n",
    "bar4.add_yaxis(num.columns[1], num['num'].tolist())"
   ],
   "metadata": {
    "collapsed": false,
    "pycharm": {
     "name": "#%%\n"
    }
   }
  },
  {
   "cell_type": "code",
   "execution_count": null,
   "outputs": [],
   "source": [
    "# 按照每天每个人聊天字数统计\n",
    "num_my: DataFrame = data[data['isSend'] == 1].groupby('time')['num'].sum().reset_index()\n",
    "num_my.rename(columns={'num': 'my'}, inplace=True)\n",
    "\n",
    "num_you: DataFrame = data[data['isSend'] == 0].groupby('time')['num'].sum().reset_index()\n",
    "num_you.rename(columns={'num': 'you'}, inplace=True)\n",
    "\n",
    "merge = pd.merge(left=num_my, right=num_you, left_on='time', right_on='time', how='inner')\n",
    "bar5 = Bar(init_opts=opts.InitOpts(width='1500px', height='650px'))\n",
    "bar5.add_xaxis(merge['time'].tolist())\n",
    "bar5.add_yaxis(merge.columns[1], merge['you'].tolist())\n",
    "bar5.add_yaxis(merge.columns[2], merge['my'].tolist())"
   ],
   "metadata": {
    "collapsed": false,
    "pycharm": {
     "name": "#%%\n"
    }
   }
  },
  {
   "cell_type": "code",
   "execution_count": null,
   "outputs": [],
   "source": [
    "# 按照周一到周日的聊天频次统计\n",
    "data['week'] = data['createTime'].apply(lambda x: pd.Timestamp(x, unit='ms', tz='Asia/Shanghai').strftime('%w'))\n",
    "week: DataFrame = data.groupby('week')['content'].count().reset_index()\n",
    "bar6 = Bar(init_opts=opts.InitOpts(width='1500px', height='650px'))\n",
    "bar6.add_xaxis(week['week'].tolist())\n",
    "bar6.add_yaxis(week.columns[1], week['content'].tolist())"
   ],
   "metadata": {
    "collapsed": false,
    "pycharm": {
     "name": "#%%\n"
    }
   }
  },
  {
   "cell_type": "code",
   "execution_count": null,
   "outputs": [],
   "source": [
    "# 顺序显示图标\n",
    "grid = Page()\n",
    "grid.add(bar)\n",
    "grid.add(bar1)\n",
    "grid.add(bar2)\n",
    "grid.add(bar3)\n",
    "grid.add(bar4)\n",
    "grid.add(bar5)\n",
    "grid.add(bar6)\n",
    "grid.render()"
   ],
   "metadata": {
    "collapsed": false,
    "pycharm": {
     "name": "#%%\n"
    }
   }
  }
 ],
 "metadata": {
  "kernelspec": {
   "display_name": "Python 3",
   "language": "python",
   "name": "python3"
  },
  "language_info": {
   "codemirror_mode": {
    "name": "ipython",
    "version": 3
   },
   "file_extension": ".py",
   "mimetype": "text/x-python",
   "name": "python",
   "nbconvert_exporter": "python",
   "pygments_lexer": "ipython3",
   "version": "3.8.3"
  }
 },
 "nbformat": 4,
 "nbformat_minor": 1
}